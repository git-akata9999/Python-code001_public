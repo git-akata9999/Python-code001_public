{
  "nbformat": 4,
  "nbformat_minor": 0,
  "metadata": {
    "colab": {
      "name": "20210224_YahooNewsTopics_get.ipynb",
      "provenance": [],
      "collapsed_sections": [],
      "mount_file_id": "1nByRgC0YzLDmBIZydNGRQFV5-vcQIkcO",
      "authorship_tag": "ABX9TyOMpOz08ZHpE0jnIA0mTEzy",
      "include_colab_link": true
    },
    "kernelspec": {
      "display_name": "Python 3",
      "name": "python3"
    }
  },
  "cells": [
    {
      "cell_type": "markdown",
      "metadata": {
        "id": "view-in-github",
        "colab_type": "text"
      },
      "source": [
        "<a href=\"https://colab.research.google.com/github/git-akata9999/Python-code001_public/blob/main/20210224_YahooNewsTopics_get.ipynb\" target=\"_parent\"><img src=\"https://colab.research.google.com/assets/colab-badge.svg\" alt=\"Open In Colab\"/></a>"
      ]
    },
    {
      "cell_type": "markdown",
      "metadata": {
        "id": "Ghuur5g08CoF"
      },
      "source": [
        "直下のプログラムが一番出来がいい。多分日によって起動しないエラーも解消されている"
      ]
    },
    {
      "cell_type": "code",
      "metadata": {
        "colab": {
          "base_uri": "https://localhost:8080/",
          "height": 1000
        },
        "id": "JPFvnCg8wyJf",
        "outputId": "01c8c042-cfcf-4f78-bd39-c26ff5442bee"
      },
      "source": [
        "#YahooNews トピックスダウンロードプログラム\n",
        "\n",
        "import requests\n",
        "from bs4 import BeautifulSoup\n",
        "import re\n",
        "from google.colab import files\n",
        "import pandas as pd\n",
        "import datetime as dt\n",
        "\n",
        "columns = [\"Name\",\"Text\",\"URL\"]\n",
        "df2 = pd.DataFrame(columns=columns)\n",
        "now = dt.datetime.now(dt.timezone(dt.timedelta(hours=9))) # 日本時刻\n",
        "\n",
        "url = 'https://news.yahoo.co.jp/topics'\n",
        "res = requests.get(url)\n",
        "soup = BeautifulSoup(res.text,\"html.parser\")\n",
        "\n",
        "elems = soup.find_all(href=re.compile(\"news.yahoo.co.jp/pickup\"))\n",
        "pickup_links = [elem.attrs['href']for elem in elems]\n",
        "\n",
        "#一覧のリンクを順に処理\n",
        "for pickup_link in pickup_links:\n",
        "    #Pickupページへ遷移しページの情報を取得\n",
        "    pickup_res = requests.get(pickup_link)\n",
        "    pickup_soup = BeautifulSoup(pickup_res.text, \"html.parser\")\n",
        "    #print(pickup_soup)\n",
        "\n",
        "    #ニュースページへのリンクを取得 \n",
        "    pickup_elem = pickup_soup.find(\"p\", class_=\"sc-kaCJFH jSvclU\") \n",
        "    print(pickup_elem)\n",
        "    news_link = pickup_elem.contents[0].attrs['href']\n",
        " \n",
        "    #ニュースページの情報を取得\n",
        "    news_res = requests.get(news_link)\n",
        "    news_soup = BeautifulSoup(news_res.text, \"html.parser\")\n",
        " \n",
        "    #タイトルとURLを表示\n",
        "    #print(news_soup.title.text)\n",
        "    #print(news_link)\n",
        "\n",
        "    Name=news_soup.title.text\n",
        "    URL=news_link\n",
        "    \n",
        "    #ニュースのテキスト情報を取得し表示\n",
        "    detail_text = news_soup.find(class_=re.compile(\"Directlink\"))\n",
        "    if hasattr(detail_text, \"text\"):\n",
        "      Text=detail_text.text\n",
        "    else: \n",
        "      Text=''\n",
        "#    print(Text)\n",
        "#    print(detail_text.text if hasattr(detail_text, \"text\") else '',end='\\n\\n\\n\\n')\n",
        "#    Text = detail_text.text \n",
        "    se = pd.Series([Name,Text,URL], columns)\n",
        "    df2 = df2.append(se, columns)\n",
        "\n",
        "filename = now.strftime('%Y%m%d_%H%M') + 'Yahoo-News.xlsx'\n",
        "##df2.to_excel(filename, sheet_name='%Y%m%d_%H%M%S',encoding = \"utf-8-sig\")\n",
        "df2.to_excel(filename, sheet_name=now.strftime('%Y%m%d_%H%M'), index=False, header=False)\n",
        "files.download(filename)\n",
        " \n"
      ],
      "execution_count": null,
      "outputs": [
        {
          "output_type": "stream",
          "text": [
            "<p class=\"sc-kaCJFH jSvclU\"><a class=\"sc-eQvJSV dnFtgr\" data-ual-gotocontent=\"true\" data-ylk=\"rsec:tpc_main;slk:headline;pos:2;\" href=\"https://headlines.yahoo.co.jp/hl?a=20210325-00000044-asahi-pol\">続きを読む</a></p>\n",
            "<p class=\"sc-kaCJFH jSvclU\"><a class=\"sc-eQvJSV dnFtgr\" data-ual-gotocontent=\"true\" data-ylk=\"rsec:tpc_main;slk:headline;pos:2;\" href=\"https://headlines.yahoo.co.jp/hl?a=20210325-00010011-chugoku-soci\">続きを読む</a></p>\n",
            "<p class=\"sc-kaCJFH jSvclU\"><a class=\"sc-eQvJSV dnFtgr\" data-ual-gotocontent=\"true\" data-ylk=\"rsec:tpc_main;slk:headline;pos:2;\" href=\"https://headlines.yahoo.co.jp/hl?a=20210325-00000048-jij-pol\">続きを読む</a></p>\n",
            "<p class=\"sc-kaCJFH jSvclU\"><a class=\"sc-eQvJSV dnFtgr\" data-ual-gotocontent=\"true\" data-ylk=\"rsec:tpc_main;slk:headline;pos:2;\" href=\"https://headlines.yahoo.co.jp/hl?a=20210325-00000205-nnn-pol\">続きを読む</a></p>\n",
            "<p class=\"sc-kaCJFH jSvclU\"><a class=\"sc-eQvJSV dnFtgr\" data-ual-gotocontent=\"true\" data-ylk=\"rsec:tpc_main;slk:headline;pos:2;\" href=\"https://headlines.yahoo.co.jp/hl?a=20210325-00023285-weather-soci\">続きを読む</a></p>\n",
            "<p class=\"sc-kaCJFH jSvclU\"><a class=\"sc-eQvJSV dnFtgr\" data-ual-gotocontent=\"true\" data-ylk=\"rsec:tpc_main;slk:headline;pos:2;\" href=\"https://news.yahoo.co.jp/byline/tsugenoriko/20210325-00226452/\">続きを読む</a></p>\n",
            "<p class=\"sc-kaCJFH jSvclU\"><a class=\"sc-eQvJSV dnFtgr\" data-ual-gotocontent=\"true\" data-ylk=\"rsec:tpc_main;slk:headline;pos:2;\" href=\"https://headlines.yahoo.co.jp/hl?a=20210325-00000046-jij-soci\">続きを読む</a></p>\n",
            "<p class=\"sc-kaCJFH jSvclU\"><a class=\"sc-eQvJSV dnFtgr\" data-ual-gotocontent=\"true\" data-ylk=\"rsec:tpc_main;slk:headline;pos:2;\" href=\"https://headlines.yahoo.co.jp/hl?a=20210325-00358866-kurumans-bus_all\">続きを読む</a></p>\n",
            "<p class=\"sc-kaCJFH jSvclU\"><a class=\"sc-eQvJSV dnFtgr\" data-ual-gotocontent=\"true\" data-ylk=\"rsec:tpc_main;slk:headline;pos:2;\" href=\"https://headlines.yahoo.co.jp/hl?a=20210325-00000097-reut-cn\">続きを読む</a></p>\n",
            "<p class=\"sc-kaCJFH jSvclU\"><a class=\"sc-eQvJSV dnFtgr\" data-ual-gotocontent=\"true\" data-ylk=\"rsec:tpc_main;slk:headline;pos:2;\" href=\"https://headlines.yahoo.co.jp/hl?a=20210325-00000063-jij-n_ame\">続きを読む</a></p>\n",
            "<p class=\"sc-kaCJFH jSvclU\"><a class=\"sc-eQvJSV dnFtgr\" data-ual-gotocontent=\"true\" data-ylk=\"rsec:tpc_main;slk:headline;pos:2;\" href=\"https://headlines.yahoo.co.jp/hl?a=20210325-00260365-fnn-int\">続きを読む</a></p>\n",
            "<p class=\"sc-kaCJFH jSvclU\"><a class=\"sc-eQvJSV dnFtgr\" data-ual-gotocontent=\"true\" data-ylk=\"rsec:tpc_main;slk:headline;pos:2;\" href=\"https://headlines.yahoo.co.jp/hl?a=20210325-00000012-jnn-int\">続きを読む</a></p>\n",
            "<p class=\"sc-kaCJFH jSvclU\"><a class=\"sc-eQvJSV dnFtgr\" data-ual-gotocontent=\"true\" data-ylk=\"rsec:tpc_main;slk:headline;pos:2;\" href=\"https://headlines.yahoo.co.jp/hl?a=20210325-00000228-nnn-int\">続きを読む</a></p>\n",
            "<p class=\"sc-kaCJFH jSvclU\"><a class=\"sc-eQvJSV dnFtgr\" data-ual-gotocontent=\"true\" data-ylk=\"rsec:tpc_main;slk:headline;pos:2;\" href=\"https://headlines.yahoo.co.jp/hl?a=20210324-00000151-jij-eurp\">続きを読む</a></p>\n",
            "<p class=\"sc-kaCJFH jSvclU\"><a class=\"sc-eQvJSV dnFtgr\" data-ual-gotocontent=\"true\" data-ylk=\"rsec:tpc_main;slk:headline;pos:2;\" href=\"https://headlines.yahoo.co.jp/hl?a=20210324-00000036-jij_afp-int\">続きを読む</a></p>\n",
            "<p class=\"sc-kaCJFH jSvclU\"><a class=\"sc-eQvJSV dnFtgr\" data-ual-gotocontent=\"true\" data-ylk=\"rsec:tpc_main;slk:headline;pos:2;\" href=\"https://headlines.yahoo.co.jp/hl?a=20210324-00000136-kyodonews-int\">続きを読む</a></p>\n",
            "<p class=\"sc-kaCJFH jSvclU\"><a class=\"sc-eQvJSV dnFtgr\" data-ual-gotocontent=\"true\" data-ylk=\"rsec:tpc_main;slk:headline;pos:2;\" href=\"https://headlines.yahoo.co.jp/hl?a=20210325-00260379-fnn-bus_all\">続きを読む</a></p>\n",
            "<p class=\"sc-kaCJFH jSvclU\"><a class=\"sc-eQvJSV dnFtgr\" data-ual-gotocontent=\"true\" data-ylk=\"rsec:tpc_main;slk:headline;pos:2;\" href=\"https://headlines.yahoo.co.jp/hl?a=20210325-00000137-impress-sci\">続きを読む</a></p>\n",
            "<p class=\"sc-kaCJFH jSvclU\"><a class=\"sc-eQvJSV dnFtgr\" data-ual-gotocontent=\"true\" data-ylk=\"rsec:tpc_main;slk:headline;pos:2;\" href=\"https://headlines.yahoo.co.jp/hl?a=20210325-00010001-biz_shoko-bus_all\">続きを読む</a></p>\n",
            "<p class=\"sc-kaCJFH jSvclU\"><a class=\"sc-eQvJSV dnFtgr\" data-ual-gotocontent=\"true\" data-ylk=\"rsec:tpc_main;slk:headline;pos:2;\" href=\"https://headlines.yahoo.co.jp/hl?a=20210325-35168394-cnetj-sci\">続きを読む</a></p>\n",
            "<p class=\"sc-kaCJFH jSvclU\"><a class=\"sc-eQvJSV dnFtgr\" data-ual-gotocontent=\"true\" data-ylk=\"rsec:tpc_main;slk:headline;pos:2;\" href=\"https://headlines.yahoo.co.jp/hl?a=20210325-00000111-zdn_mkt-bus_all\">続きを読む</a></p>\n",
            "<p class=\"sc-kaCJFH jSvclU\"><a class=\"sc-eQvJSV dnFtgr\" data-ual-gotocontent=\"true\" data-ylk=\"rsec:tpc_main;slk:headline;pos:2;\" href=\"https://headlines.yahoo.co.jp/hl?a=20210325-00010006-nishinpc-bus_all\">続きを読む</a></p>\n",
            "<p class=\"sc-kaCJFH jSvclU\"><a class=\"sc-eQvJSV dnFtgr\" data-ual-gotocontent=\"true\" data-ylk=\"rsec:tpc_main;slk:headline;pos:2;\" href=\"https://headlines.yahoo.co.jp/hl?a=20210325-00630690-kyt-l26\">続きを読む</a></p>\n",
            "<p class=\"sc-kaCJFH jSvclU\"><a class=\"sc-eQvJSV dnFtgr\" data-ual-gotocontent=\"true\" data-ylk=\"rsec:tpc_main;slk:headline;pos:2;\" href=\"https://headlines.yahoo.co.jp/hl?a=20210324-00010002-biz_shoko-bus_all\">続きを読む</a></p>\n",
            "<p class=\"sc-kaCJFH jSvclU\"><a class=\"sc-eQvJSV dnFtgr\" data-ual-gotocontent=\"true\" data-ylk=\"rsec:tpc_main;slk:headline;pos:2;\" href=\"https://headlines.yahoo.co.jp/article?a=20210325-00000013-friday-ent\">続きを読む</a></p>\n",
            "<p class=\"sc-kaCJFH jSvclU\"><a class=\"sc-eQvJSV dnFtgr\" data-ual-gotocontent=\"true\" data-ylk=\"rsec:tpc_main;slk:headline;pos:2;\" href=\"https://headlines.yahoo.co.jp/hl?a=20210325-00000393-oric-ent\">続きを読む</a></p>\n",
            "<p class=\"sc-kaCJFH jSvclU\"><a class=\"sc-eQvJSV dnFtgr\" data-ual-gotocontent=\"true\" data-ylk=\"rsec:tpc_main;slk:headline;pos:2;\" href=\"https://headlines.yahoo.co.jp/hl?a=20210325-00000008-kobenext-soci\">続きを読む</a></p>\n",
            "<p class=\"sc-kaCJFH jSvclU\"><a class=\"sc-eQvJSV dnFtgr\" data-ual-gotocontent=\"true\" data-ylk=\"rsec:tpc_main;slk:headline;pos:2;\" href=\"https://headlines.yahoo.co.jp/hl?a=20210325-00000015-asahi-musi\">続きを読む</a></p>\n",
            "<p class=\"sc-kaCJFH jSvclU\"><a class=\"sc-eQvJSV dnFtgr\" data-ual-gotocontent=\"true\" data-ylk=\"rsec:tpc_main;slk:headline;pos:2;\" href=\"https://headlines.yahoo.co.jp/hl?a=20210325-00000315-oric-ent\">続きを読む</a></p>\n",
            "<p class=\"sc-kaCJFH jSvclU\"><a class=\"sc-eQvJSV dnFtgr\" data-ual-gotocontent=\"true\" data-ylk=\"rsec:tpc_main;slk:headline;pos:2;\" href=\"https://headlines.yahoo.co.jp/hl?a=20210325-00000013-spnannex-ent\">続きを読む</a></p>\n",
            "<p class=\"sc-kaCJFH jSvclU\"><a class=\"sc-eQvJSV dnFtgr\" data-ual-gotocontent=\"true\" data-ylk=\"rsec:tpc_main;slk:headline;pos:2;\" href=\"https://headlines.yahoo.co.jp/hl?a=20210325-00000515-sanspo-ent\">続きを読む</a></p>\n",
            "<p class=\"sc-kaCJFH jSvclU\"><a class=\"sc-eQvJSV dnFtgr\" data-ual-gotocontent=\"true\" data-ylk=\"rsec:tpc_main;slk:headline;pos:2;\" href=\"https://headlines.yahoo.co.jp/hl?a=20210324-00000606-sanspo-ent\">続きを読む</a></p>\n",
            "<p class=\"sc-kaCJFH jSvclU\"><a class=\"sc-eQvJSV dnFtgr\" data-ual-gotocontent=\"true\" data-ylk=\"rsec:tpc_main;slk:headline;pos:2;\" href=\"https://headlines.yahoo.co.jp/hl?a=20210325-00000014-jij_afp-spo\">続きを読む</a></p>\n",
            "<p class=\"sc-kaCJFH jSvclU\"><a class=\"sc-eQvJSV dnFtgr\" data-ual-gotocontent=\"true\" data-ylk=\"rsec:tpc_main;slk:headline;pos:2;\" href=\"https://soccer.yahoo.co.jp/japan/game/score/2021032517\">速報を見る</a></p>\n",
            "<p class=\"sc-kaCJFH jSvclU\"><a class=\"sc-eQvJSV dnFtgr\" data-ual-gotocontent=\"true\" data-ylk=\"rsec:tpc_main;slk:headline;pos:2;\" href=\"https://headlines.yahoo.co.jp/hl?a=20210325-00000062-mai-spo&amp;seika2020\">続きを読む</a></p>\n",
            "<p class=\"sc-kaCJFH jSvclU\"><a class=\"sc-eQvJSV dnFtgr\" data-ual-gotocontent=\"true\" data-ylk=\"rsec:tpc_main;slk:headline;pos:2;\" href=\"https://headlines.yahoo.co.jp/article?a=20210325-00010011-baseballc-base\">続きを読む</a></p>\n",
            "<p class=\"sc-kaCJFH jSvclU\"><a class=\"sc-eQvJSV dnFtgr\" data-ual-gotocontent=\"true\" data-ylk=\"rsec:tpc_main;slk:headline;pos:2;\" href=\"https://headlines.yahoo.co.jp/hl?a=20210325-00000056-mai-spo\">続きを読む</a></p>\n",
            "<p class=\"sc-kaCJFH jSvclU\"><a class=\"sc-eQvJSV dnFtgr\" data-ual-gotocontent=\"true\" data-ylk=\"rsec:tpc_main;slk:headline;pos:2;\" href=\"https://headlines.yahoo.co.jp/hl?a=20210325-03250128-sph-base\">続きを読む</a></p>\n",
            "<p class=\"sc-kaCJFH jSvclU\"><a class=\"sc-eQvJSV dnFtgr\" data-ual-gotocontent=\"true\" data-ylk=\"rsec:tpc_main;slk:headline;pos:2;\" href=\"https://headlines.yahoo.co.jp/article?a=20210325-00418971-toyo-soci\">続きを読む</a></p>\n",
            "<p class=\"sc-kaCJFH jSvclU\"><a class=\"sc-eQvJSV dnFtgr\" data-ual-gotocontent=\"true\" data-ylk=\"rsec:tpc_main;slk:headline;pos:2;\" href=\"https://headlines.yahoo.co.jp/hl?a=20210325-00000010-asahi-spo\">続きを読む</a></p>\n",
            "<p class=\"sc-kaCJFH jSvclU\"><a class=\"sc-eQvJSV dnFtgr\" data-ual-gotocontent=\"true\" data-ylk=\"rsec:tpc_main;slk:headline;pos:2;\" href=\"https://headlines.yahoo.co.jp/hl?a=20210325-00000021-zdn_m-sci\">続きを読む</a></p>\n",
            "<p class=\"sc-kaCJFH jSvclU\"><a class=\"sc-eQvJSV dnFtgr\" data-ual-gotocontent=\"true\" data-ylk=\"rsec:tpc_main;slk:headline;pos:2;\" href=\"https://headlines.yahoo.co.jp/hl?a=20210324-00000518-san-bus_all\">続きを読む</a></p>\n",
            "<p class=\"sc-kaCJFH jSvclU\"><a class=\"sc-eQvJSV dnFtgr\" data-ual-gotocontent=\"true\" data-ylk=\"rsec:tpc_main;slk:headline;pos:2;\" href=\"https://headlines.yahoo.co.jp/hl?a=20210323-00000596-san-bus_all\">続きを読む</a></p>\n",
            "<p class=\"sc-kaCJFH jSvclU\"><a class=\"sc-eQvJSV dnFtgr\" data-ual-gotocontent=\"true\" data-ylk=\"rsec:tpc_main;slk:headline;pos:2;\" href=\"https://headlines.yahoo.co.jp/hl?a=20210323-00000075-mai-bus_all\">続きを読む</a></p>\n",
            "<p class=\"sc-kaCJFH jSvclU\"><a class=\"sc-eQvJSV dnFtgr\" data-ual-gotocontent=\"true\" data-ylk=\"rsec:tpc_main;slk:headline;pos:2;\" href=\"https://headlines.yahoo.co.jp/hl?a=20210323-00000580-san-bus_all\">続きを読む</a></p>\n",
            "<p class=\"sc-kaCJFH jSvclU\"><a class=\"sc-eQvJSV dnFtgr\" data-ual-gotocontent=\"true\" data-ylk=\"rsec:tpc_main;slk:headline;pos:2;\" href=\"https://headlines.yahoo.co.jp/hl?a=20210323-00000079-zdn_n-sci\">続きを読む</a></p>\n",
            "<p class=\"sc-kaCJFH jSvclU\"><a class=\"sc-eQvJSV dnFtgr\" data-ual-gotocontent=\"true\" data-ylk=\"rsec:tpc_main;slk:headline;pos:2;\" href=\"https://headlines.yahoo.co.jp/hl?a=20210323-00000077-jij-bus_all\">続きを読む</a></p>\n",
            "<p class=\"sc-kaCJFH jSvclU\"><a class=\"sc-eQvJSV dnFtgr\" data-ual-gotocontent=\"true\" data-ylk=\"rsec:tpc_main;slk:headline;pos:2;\" href=\"https://headlines.yahoo.co.jp/hl?a=20210323-00000022-asahi-soci\">続きを読む</a></p>\n",
            "<p class=\"sc-kaCJFH jSvclU\"><a class=\"sc-eQvJSV dnFtgr\" data-ual-gotocontent=\"true\" data-ylk=\"rsec:tpc_main;slk:headline;pos:2;\" href=\"https://headlines.yahoo.co.jp/hl?a=20210325-00636132-kyt-soci\">続きを読む</a></p>\n",
            "<p class=\"sc-kaCJFH jSvclU\"><a class=\"sc-eQvJSV dnFtgr\" data-ual-gotocontent=\"true\" data-ylk=\"rsec:tpc_main;slk:headline;pos:2;\" href=\"https://headlines.yahoo.co.jp/hl?a=20210325-00000013-jij_afp-sctch\">続きを読む</a></p>\n",
            "<p class=\"sc-kaCJFH jSvclU\"><a class=\"sc-eQvJSV dnFtgr\" data-ual-gotocontent=\"true\" data-ylk=\"rsec:tpc_main;slk:headline;pos:2;\" href=\"https://headlines.yahoo.co.jp/article?a=20210325-00085635-otonans-life\">続きを読む</a></p>\n",
            "<p class=\"sc-kaCJFH jSvclU\"><a class=\"sc-eQvJSV dnFtgr\" data-ual-gotocontent=\"true\" data-ylk=\"rsec:tpc_main;slk:headline;pos:2;\" href=\"https://headlines.yahoo.co.jp/hl?a=20210324-00000095-zdn_n-sci\">続きを読む</a></p>\n",
            "<p class=\"sc-kaCJFH jSvclU\"><a class=\"sc-eQvJSV dnFtgr\" data-ual-gotocontent=\"true\" data-ylk=\"rsec:tpc_main;slk:headline;pos:2;\" href=\"https://headlines.yahoo.co.jp/hl?a=20210324-00000026-mai-soci\">続きを読む</a></p>\n",
            "<p class=\"sc-kaCJFH jSvclU\"><a class=\"sc-eQvJSV dnFtgr\" data-ual-gotocontent=\"true\" data-ylk=\"rsec:tpc_main;slk:headline;pos:2;\" href=\"https://headlines.yahoo.co.jp/hl?a=20210323-00010019-nishinpc-int\">続きを読む</a></p>\n",
            "<p class=\"sc-kaCJFH jSvclU\"><a class=\"sc-eQvJSV dnFtgr\" data-ual-gotocontent=\"true\" data-ylk=\"rsec:tpc_main;slk:headline;pos:2;\" href=\"https://headlines.yahoo.co.jp/hl?a=20210323-00000531-san-sctch\">続きを読む</a></p>\n",
            "<p class=\"sc-kaCJFH jSvclU\"><a class=\"sc-eQvJSV dnFtgr\" data-ual-gotocontent=\"true\" data-ylk=\"rsec:tpc_main;slk:headline;pos:2;\" href=\"https://headlines.yahoo.co.jp/hl?a=20210323-00023250-weather-soci\">続きを読む</a></p>\n",
            "<p class=\"sc-kaCJFH jSvclU\"><a class=\"sc-eQvJSV dnFtgr\" data-ual-gotocontent=\"true\" data-ylk=\"rsec:tpc_main;slk:headline;pos:2;\" href=\"https://headlines.yahoo.co.jp/hl?a=20210325-00000104-asahi-soci\">続きを読む</a></p>\n",
            "<p class=\"sc-kaCJFH jSvclU\"><a class=\"sc-eQvJSV dnFtgr\" data-ual-gotocontent=\"true\" data-ylk=\"rsec:tpc_main;slk:headline;pos:2;\" href=\"https://headlines.yahoo.co.jp/hl?a=20210325-00010000-ytokushu-soci\">続きを読む</a></p>\n",
            "<p class=\"sc-kaCJFH jSvclU\"><a class=\"sc-eQvJSV dnFtgr\" data-ual-gotocontent=\"true\" data-ylk=\"rsec:tpc_main;slk:headline;pos:2;\" href=\"https://headlines.yahoo.co.jp/hl?a=20210325-00000059-mai-soci\">続きを読む</a></p>\n",
            "<p class=\"sc-kaCJFH jSvclU\"><a class=\"sc-eQvJSV dnFtgr\" data-ual-gotocontent=\"true\" data-ylk=\"rsec:tpc_main;slk:headline;pos:2;\" href=\"https://headlines.yahoo.co.jp/hl?a=20210325-00010006-abemav-soci\">続きを読む</a></p>\n",
            "<p class=\"sc-kaCJFH jSvclU\"><a class=\"sc-eQvJSV dnFtgr\" data-ual-gotocontent=\"true\" data-ylk=\"rsec:tpc_main;slk:headline;pos:2;\" href=\"https://headlines.yahoo.co.jp/hl?a=20210325-00636301-kyt-l26\">続きを読む</a></p>\n",
            "<p class=\"sc-kaCJFH jSvclU\"><a class=\"sc-eQvJSV dnFtgr\" data-ual-gotocontent=\"true\" data-ylk=\"rsec:tpc_main;slk:headline;pos:2;\" href=\"https://headlines.yahoo.co.jp/hl?a=20210325-00000042-asahi-soci\">続きを読む</a></p>\n",
            "<p class=\"sc-kaCJFH jSvclU\"><a class=\"sc-eQvJSV dnFtgr\" data-ual-gotocontent=\"true\" data-ylk=\"rsec:tpc_main;slk:headline;pos:2;\" href=\"https://headlines.yahoo.co.jp/hl?a=20210325-00260268-fnnprimev-soci\">続きを読む</a></p>\n",
            "<p class=\"sc-kaCJFH jSvclU\"><a class=\"sc-eQvJSV dnFtgr\" data-ual-gotocontent=\"true\" data-ylk=\"rsec:tpc_main;slk:headline;pos:2;\" href=\"https://headlines.yahoo.co.jp/hl?a=20210325-00010000-ynewstalk-soci\">続きを読む</a></p>\n",
            "<p class=\"sc-kaCJFH jSvclU\"><a class=\"sc-eQvJSV dnFtgr\" data-ual-gotocontent=\"true\" data-ylk=\"rsec:tpc_main;slk:headline;pos:2;\" href=\"https://headlines.yahoo.co.jp/hl?a=20210325-00260365-fnn-int\">続きを読む</a></p>\n",
            "<p class=\"sc-kaCJFH jSvclU\"><a class=\"sc-eQvJSV dnFtgr\" data-ual-gotocontent=\"true\" data-ylk=\"rsec:tpc_main;slk:headline;pos:2;\" href=\"https://headlines.yahoo.co.jp/hl?a=20210325-00000063-jij-n_ame\">続きを読む</a></p>\n",
            "<p class=\"sc-kaCJFH jSvclU\"><a class=\"sc-eQvJSV dnFtgr\" data-ual-gotocontent=\"true\" data-ylk=\"rsec:tpc_main;slk:headline;pos:2;\" href=\"https://headlines.yahoo.co.jp/hl?a=20210325-00000104-asahi-soci\">続きを読む</a></p>\n",
            "<p class=\"sc-kaCJFH jSvclU\"><a class=\"sc-eQvJSV dnFtgr\" data-ual-gotocontent=\"true\" data-ylk=\"rsec:tpc_main;slk:headline;pos:2;\" href=\"https://headlines.yahoo.co.jp/hl?a=20210325-00260268-fnnprimev-soci\">続きを読む</a></p>\n",
            "<p class=\"sc-kaCJFH jSvclU\"><a class=\"sc-eQvJSV dnFtgr\" data-ual-gotocontent=\"true\" data-ylk=\"rsec:tpc_main;slk:headline;pos:2;\" href=\"https://news.yahoo.co.jp/byline/tsugenoriko/20210325-00226452/\">続きを読む</a></p>\n",
            "<p class=\"sc-kaCJFH jSvclU\"><a class=\"sc-eQvJSV dnFtgr\" data-ual-gotocontent=\"true\" data-ylk=\"rsec:tpc_main;slk:headline;pos:2;\" href=\"https://soccer.yahoo.co.jp/japan/game/score/2021032517\">速報を見る</a></p>\n",
            "<p class=\"sc-kaCJFH jSvclU\"><a class=\"sc-eQvJSV dnFtgr\" data-ual-gotocontent=\"true\" data-ylk=\"rsec:tpc_main;slk:headline;pos:2;\" href=\"https://headlines.yahoo.co.jp/article?a=20210325-00000013-friday-ent\">続きを読む</a></p>\n",
            "<p class=\"sc-kaCJFH jSvclU\"><a class=\"sc-eQvJSV dnFtgr\" data-ual-gotocontent=\"true\" data-ylk=\"rsec:tpc_main;slk:headline;pos:2;\" href=\"https://headlines.yahoo.co.jp/hl?a=20210325-00000393-oric-ent\">続きを読む</a></p>\n"
          ],
          "name": "stdout"
        },
        {
          "output_type": "display_data",
          "data": {
            "application/javascript": [
              "\n",
              "    async function download(id, filename, size) {\n",
              "      if (!google.colab.kernel.accessAllowed) {\n",
              "        return;\n",
              "      }\n",
              "      const div = document.createElement('div');\n",
              "      const label = document.createElement('label');\n",
              "      label.textContent = `Downloading \"${filename}\": `;\n",
              "      div.appendChild(label);\n",
              "      const progress = document.createElement('progress');\n",
              "      progress.max = size;\n",
              "      div.appendChild(progress);\n",
              "      document.body.appendChild(div);\n",
              "\n",
              "      const buffers = [];\n",
              "      let downloaded = 0;\n",
              "\n",
              "      const channel = await google.colab.kernel.comms.open(id);\n",
              "      // Send a message to notify the kernel that we're ready.\n",
              "      channel.send({})\n",
              "\n",
              "      for await (const message of channel.messages) {\n",
              "        // Send a message to notify the kernel that we're ready.\n",
              "        channel.send({})\n",
              "        if (message.buffers) {\n",
              "          for (const buffer of message.buffers) {\n",
              "            buffers.push(buffer);\n",
              "            downloaded += buffer.byteLength;\n",
              "            progress.value = downloaded;\n",
              "          }\n",
              "        }\n",
              "      }\n",
              "      const blob = new Blob(buffers, {type: 'application/binary'});\n",
              "      const a = document.createElement('a');\n",
              "      a.href = window.URL.createObjectURL(blob);\n",
              "      a.download = filename;\n",
              "      div.appendChild(a);\n",
              "      a.click();\n",
              "      div.remove();\n",
              "    }\n",
              "  "
            ],
            "text/plain": [
              "<IPython.core.display.Javascript object>"
            ]
          },
          "metadata": {
            "tags": []
          }
        },
        {
          "output_type": "display_data",
          "data": {
            "application/javascript": [
              "download(\"download_30e9cf26-dfdf-4430-b8a5-d56cbd44552b\", \"20210325_2022Yahoo-News.xlsx\", 54467)"
            ],
            "text/plain": [
              "<IPython.core.display.Javascript object>"
            ]
          },
          "metadata": {
            "tags": []
          }
        }
      ]
    },
    {
      "cell_type": "markdown",
      "metadata": {
        "id": "ZoVLr5UJr3_a"
      },
      "source": [
        "下記はPDFで出力するコード"
      ]
    },
    {
      "cell_type": "code",
      "metadata": {
        "colab": {
          "base_uri": "https://localhost:8080/"
        },
        "id": "aIeDZfmMl3NQ",
        "outputId": "71d0580c-be54-460a-cbfb-242bb296d05e"
      },
      "source": [
        "!pip install reportlab"
      ],
      "execution_count": null,
      "outputs": [
        {
          "output_type": "stream",
          "text": [
            "Collecting reportlab\n",
            "\u001b[?25l  Downloading https://files.pythonhosted.org/packages/80/cf/402917f4dbf826dfb4136114ec168857fc23fe9492950c967d4e7da94151/reportlab-3.5.66-cp37-cp37m-manylinux2010_x86_64.whl (2.6MB)\n",
            "\u001b[K     |████████████████████████████████| 2.6MB 12.6MB/s \n",
            "\u001b[?25hRequirement already satisfied: pillow>=4.0.0 in /usr/local/lib/python3.7/dist-packages (from reportlab) (7.0.0)\n",
            "Installing collected packages: reportlab\n",
            "Successfully installed reportlab-3.5.66\n"
          ],
          "name": "stdout"
        }
      ]
    },
    {
      "cell_type": "code",
      "metadata": {
        "colab": {
          "background_save": true
        },
        "id": "_haUAU_UQvnv"
      },
      "source": [
        "import os,sys\n",
        "import requests\n",
        "from bs4 import BeautifulSoup\n",
        "import re\n",
        "from google.colab import files\n",
        "import datetime as dt\n",
        "from reportlab.pdfgen import canvas\n",
        "from reportlab.lib.pagesizes import A4\n",
        "from reportlab.pdfbase import pdfmetrics\n",
        "from reportlab.pdfbase.ttfonts import TTFont\n",
        "from reportlab.lib.units import inch, mm, cm\n",
        "from reportlab.platypus import Table, TableStyle,Paragraph,SimpleDocTemplate, Spacer, Image\n",
        "from reportlab.lib import colors\n",
        "from reportlab.lib.styles import ParagraphStyle\n",
        "from reportlab.lib.styles import getSampleStyleSheet\n",
        "\n",
        "\n",
        "ttf_file = '/content/drive/MyDrive/ipaexg.ttf'\n",
        "pdfmetrics.registerFont(TTFont('IPAexGothic', ttf_file))\n",
        "now = dt.datetime.now(dt.timezone(dt.timedelta(hours=9))) \n",
        "\n",
        "\n",
        "filename = now.strftime('%Y%m%d_%H%M')+'News.pdf'\n",
        "pdf = canvas.Canvas(\"/content/drive/MyDrive/YahooNews.pdf\", pagesize=(210 * mm, 297 * mm))\n",
        "url = 'https://news.yahoo.co.jp/topics'\n",
        "res = requests.get(url)\n",
        "soup = BeautifulSoup(res.text,\"html.parser\")\n",
        "\n",
        "elems = soup.find_all(href=re.compile(\"news.yahoo.co.jp/pickup\"))\n",
        "pickup_links = [elem.attrs['href']for elem in elems]\n",
        "\n",
        "for pickup_link in pickup_links: \n",
        "\n",
        "    pickup_res = requests.get(pickup_link)\n",
        "    pickup_soup = BeautifulSoup(pickup_res.text, \"html.parser\")\n",
        "    pickup_elem = pickup_soup.find(\"p\", class_=\"sc-kaCJFH jSvclU\")    \n",
        "    news_link = pickup_elem.contents[0].attrs['href']\n",
        " \n",
        "    news_res = requests.get(news_link)\n",
        "    news_soup = BeautifulSoup(news_res.text, \"html.parser\")\n",
        "\n",
        "    Name=news_soup.title.text\n",
        "    URL=news_link\n",
        "    \n",
        "    detail_text = news_soup.find(class_=re.compile(\"Directlink\"))\n",
        "    if hasattr(detail_text, \"text\"):\n",
        "      Text=detail_text.text\n",
        "    else: \n",
        "      Text=''\n",
        "\n",
        "    def setStyleParam2J( style ):\n",
        "        style.fontName = 'IPAexGothic'\n",
        "        style.wordWrap  ='CJK'\n",
        "    styles = getSampleStyleSheet()\n",
        "    setStyleParam2J(styles['Normal'])\n",
        "\n",
        "    Text1 = Paragraph(Text,style=styles[\"Normal\"])\n",
        "    font_size = 10\n",
        "    pdf.setFont('IPAexGothic', font_size)\n",
        "    \n",
        "    pdf.drawString(10 * mm, (297 - 10) * mm, Name)\n",
        "    pdf.drawString(10 * mm, (297 - 20) * mm, URL)\n",
        "    Text1.wrapOn(pdf, 180*mm, 250*mm)\n",
        "    Text1.drawOn(pdf, 10*mm, 50*mm)\n",
        "   \n",
        "\n",
        "    pdf.showPage()\n",
        "pdf.save()\n"
      ],
      "execution_count": null,
      "outputs": []
    }
  ]
}