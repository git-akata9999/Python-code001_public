{
  "nbformat": 4,
  "nbformat_minor": 0,
  "metadata": {
    "colab": {
      "name": "20210326_OCR.ipynb",
      "provenance": [],
      "collapsed_sections": [],
      "toc_visible": true,
      "mount_file_id": "1yluhno6yZbNaiWWSqmO6lA36wetoVQhO",
      "authorship_tag": "ABX9TyM/ujQQVpGCpzkpCwLz95xz",
      "include_colab_link": true
    },
    "kernelspec": {
      "name": "python3",
      "display_name": "Python 3"
    },
    "language_info": {
      "name": "python"
    },
    "accelerator": "GPU"
  },
  "cells": [
    {
      "cell_type": "markdown",
      "metadata": {
        "id": "view-in-github",
        "colab_type": "text"
      },
      "source": [
        "<a href=\"https://colab.research.google.com/github/git-akata9999/Python-code001_public/blob/main/20210326_OCR.ipynb\" target=\"_parent\"><img src=\"https://colab.research.google.com/assets/colab-badge.svg\" alt=\"Open In Colab\"/></a>"
      ]
    },
    {
      "cell_type": "code",
      "metadata": {
        "colab": {
          "base_uri": "https://localhost:8080/"
        },
        "id": "U8ua2fmPmF6l",
        "outputId": "7c3d985e-1425-42a8-c176-2c0896dd5e59"
      },
      "source": [
        "!pip3 install pdfminer.six\n",
        "!pip3 install PyPDF2\n",
        "\n",
        "#https://www.youtube.com/watch?v=KRr_JCapfeo&t=370s     いまにゅ"
      ],
      "execution_count": null,
      "outputs": [
        {
          "output_type": "stream",
          "text": [
            "Collecting pdfminer.six\n",
            "\u001b[?25l  Downloading https://files.pythonhosted.org/packages/93/f3/4fec7dabe8802ebec46141345bf714cd1fc7d93cb74ddde917e4b6d97d88/pdfminer.six-20201018-py3-none-any.whl (5.6MB)\n",
            "\u001b[K     |████████████████████████████████| 5.6MB 4.7MB/s \n",
            "\u001b[?25hCollecting cryptography\n",
            "\u001b[?25l  Downloading https://files.pythonhosted.org/packages/b2/26/7af637e6a7e87258b963f1731c5982fb31cd507f0d90d91836e446955d02/cryptography-3.4.7-cp36-abi3-manylinux2014_x86_64.whl (3.2MB)\n",
            "\u001b[K     |████████████████████████████████| 3.2MB 38.9MB/s \n",
            "\u001b[?25hRequirement already satisfied: chardet; python_version > \"3.0\" in /usr/local/lib/python3.7/dist-packages (from pdfminer.six) (3.0.4)\n",
            "Requirement already satisfied: sortedcontainers in /usr/local/lib/python3.7/dist-packages (from pdfminer.six) (2.3.0)\n",
            "Requirement already satisfied: cffi>=1.12 in /usr/local/lib/python3.7/dist-packages (from cryptography->pdfminer.six) (1.14.5)\n",
            "Requirement already satisfied: pycparser in /usr/local/lib/python3.7/dist-packages (from cffi>=1.12->cryptography->pdfminer.six) (2.20)\n",
            "Installing collected packages: cryptography, pdfminer.six\n",
            "Successfully installed cryptography-3.4.7 pdfminer.six-20201018\n",
            "Collecting PyPDF2\n",
            "\u001b[?25l  Downloading https://files.pythonhosted.org/packages/b4/01/68fcc0d43daf4c6bdbc6b33cc3f77bda531c86b174cac56ef0ffdb96faab/PyPDF2-1.26.0.tar.gz (77kB)\n",
            "\u001b[K     |████████████████████████████████| 81kB 4.3MB/s \n",
            "\u001b[?25hBuilding wheels for collected packages: PyPDF2\n",
            "  Building wheel for PyPDF2 (setup.py) ... \u001b[?25l\u001b[?25hdone\n",
            "  Created wheel for PyPDF2: filename=PyPDF2-1.26.0-cp37-none-any.whl size=61085 sha256=7d38336b6f0c3d8698e2064574b3641f99fd7281586b0be01872edabb972b38d\n",
            "  Stored in directory: /root/.cache/pip/wheels/53/84/19/35bc977c8bf5f0c23a8a011aa958acd4da4bbd7a229315c1b7\n",
            "Successfully built PyPDF2\n",
            "Installing collected packages: PyPDF2\n",
            "Successfully installed PyPDF2-1.26.0\n"
          ],
          "name": "stdout"
        }
      ]
    },
    {
      "cell_type": "code",
      "metadata": {
        "id": "7H-m8CRznw1u",
        "colab": {
          "base_uri": "https://localhost:8080/",
          "height": 17
        },
        "outputId": "f08ab5b1-245e-407d-fc54-3553c2e3d27a"
      },
      "source": [
        "import PyPDF2\n",
        "import pdfminer\n",
        "import datetime as dt\n",
        "from google.colab import files\n",
        "\n",
        "#OCR化したいファイルを読み込みOCR化\n",
        "#####text = !python3 '/content/drive/MyDrive/Colab Notebooks/Python/01_OCR化作業用/pdf2txt.py' '/content/drive/MyDrive/Colab Notebooks/Python/01_OCR化作業用/sample.pdf'\n",
        "text = !python3 '/content/drive/MyDrive/Colab Notebooks/Python/01_OCR化作業用/pdf2txt.py' '/content/drive/MyDrive/Colab Notebooks/Python/01_OCR化作業用/23.pdf'\n",
        "\n",
        "\n",
        "#ファイル名管理\n",
        "now = dt.datetime.now(dt.timezone(dt.timedelta(hours=9))) # 日本時刻\n",
        "filename =  now.strftime('%Y%m%d_%H%M') + 'OCRfile.txt'\n",
        "\n",
        "\n",
        "#OCR化したファイルの作成\n",
        "f = open(filename, 'w')\n",
        "\n",
        "#textがSlistなので、これを改行しリストでなくすため.nメソッド使用\n",
        "#https://note.nkmk.me/jupyter-notebook-system-command/  Slist説明\n",
        "textn=text.n\n",
        "\n",
        "#OCR化したファイルの書き出しとDL処理\n",
        "f.write(textn)\n",
        "f.close()\n",
        "files.download(filename)"
      ],
      "execution_count": null,
      "outputs": [
        {
          "output_type": "display_data",
          "data": {
            "application/javascript": [
              "\n",
              "    async function download(id, filename, size) {\n",
              "      if (!google.colab.kernel.accessAllowed) {\n",
              "        return;\n",
              "      }\n",
              "      const div = document.createElement('div');\n",
              "      const label = document.createElement('label');\n",
              "      label.textContent = `Downloading \"${filename}\": `;\n",
              "      div.appendChild(label);\n",
              "      const progress = document.createElement('progress');\n",
              "      progress.max = size;\n",
              "      div.appendChild(progress);\n",
              "      document.body.appendChild(div);\n",
              "\n",
              "      const buffers = [];\n",
              "      let downloaded = 0;\n",
              "\n",
              "      const channel = await google.colab.kernel.comms.open(id);\n",
              "      // Send a message to notify the kernel that we're ready.\n",
              "      channel.send({})\n",
              "\n",
              "      for await (const message of channel.messages) {\n",
              "        // Send a message to notify the kernel that we're ready.\n",
              "        channel.send({})\n",
              "        if (message.buffers) {\n",
              "          for (const buffer of message.buffers) {\n",
              "            buffers.push(buffer);\n",
              "            downloaded += buffer.byteLength;\n",
              "            progress.value = downloaded;\n",
              "          }\n",
              "        }\n",
              "      }\n",
              "      const blob = new Blob(buffers, {type: 'application/binary'});\n",
              "      const a = document.createElement('a');\n",
              "      a.href = window.URL.createObjectURL(blob);\n",
              "      a.download = filename;\n",
              "      div.appendChild(a);\n",
              "      a.click();\n",
              "      div.remove();\n",
              "    }\n",
              "  "
            ],
            "text/plain": [
              "<IPython.core.display.Javascript object>"
            ]
          },
          "metadata": {
            "tags": []
          }
        },
        {
          "output_type": "display_data",
          "data": {
            "application/javascript": [
              "download(\"download_b915da4a-0856-433b-94ef-cd5794e072b4\", \"20210327_2122OCRfile.txt\", 3)"
            ],
            "text/plain": [
              "<IPython.core.display.Javascript object>"
            ]
          },
          "metadata": {
            "tags": []
          }
        }
      ]
    },
    {
      "cell_type": "markdown",
      "metadata": {
        "id": "DzlA0AKccDWF"
      },
      "source": [
        "\\\\\\\\\\\\\\\\\\\\\\\\\\\\\\\\\\\\\\\\\\\\\\\\\\\\\\\\\\\\\\\\\\\\\\\\\\\\\\\\\\\\\\\\\\\\\\\\\\\\\\\\\\\\\\\\\\\\\\\\\\\\\\\\\\\\\\\\\\\\\\\\\\\\\\\\\\\\\\\\\\\\\\\\\\\\\\\\\\\\\\\\\\\\\\\\\\\\\\\\\\\\\\\n",
        "\n",
        "---\n",
        "\n"
      ]
    },
    {
      "cell_type": "code",
      "metadata": {
        "id": "9qVd8A8WVqku"
      },
      "source": [
        "text2 =!python3 '/content/drive/MyDrive/Colab Notebooks/Python/01_OCR化作業用/pdf2txt.py' '/content/drive/MyDrive/Colab Notebooks/Python/01_OCR化作業用/ja_sample_1.pdf'"
      ],
      "execution_count": null,
      "outputs": []
    },
    {
      "cell_type": "code",
      "metadata": {
        "colab": {
          "base_uri": "https://localhost:8080/",
          "height": 17
        },
        "id": "p2FsU_X7W71E",
        "outputId": "3af9c865-f8f5-4761-b6d5-b23440c518aa"
      },
      "source": [
        "#!python3 '/content/drive/MyDrive/Colab Notebooks/Python/01_OCR化作業用/pdf2txt.py' '/content/drive/MyDrive/Colab Notebooks/Python/01_OCR化作業用/74_45.pdf'\n",
        "#text2 =!python3 '/content/drive/MyDrive/Colab Notebooks/Python/01_OCR化作業用/pdf2txt.py' '/content/drive/MyDrive/Colab Notebooks/Python/01_OCR化作業用/ja_sample_1.pdf'\n",
        "\n",
        "import PyPDF2\n",
        "import pdfminer\n",
        "import datetime as dt\n",
        "from google.colab import files\n",
        "\n",
        "#OCR化したいファイルを読み込みOCR化\n",
        "text = !python3 '/content/drive/MyDrive/Colab Notebooks/Python/01_OCR化作業用/pdf2txt.py' '/content/drive/MyDrive/Colab Notebooks/Python/01_OCR化作業用/ja_sample_1.pdf'\n",
        "\n",
        "#ファイル名管理\n",
        "now = dt.datetime.now(dt.timezone(dt.timedelta(hours=9))) # 日本時刻\n",
        "filename =  now.strftime('%Y%m%d_%H%M') + 'OCRfile.txt'\n",
        "\n",
        "#OCR化したファイルの作成\n",
        "f = open(filename, 'w')\n",
        "\n",
        "#textがSlistなので、これを改行しリストでなくすため.nメソッド使用\n",
        "textn=text.n\n",
        "\n",
        "#OCR化したファイルの書き出しとDL処理\n",
        "f.write(textn)\n",
        "f.close()\n",
        "files.download(filename)"
      ],
      "execution_count": null,
      "outputs": [
        {
          "output_type": "display_data",
          "data": {
            "application/javascript": [
              "\n",
              "    async function download(id, filename, size) {\n",
              "      if (!google.colab.kernel.accessAllowed) {\n",
              "        return;\n",
              "      }\n",
              "      const div = document.createElement('div');\n",
              "      const label = document.createElement('label');\n",
              "      label.textContent = `Downloading \"${filename}\": `;\n",
              "      div.appendChild(label);\n",
              "      const progress = document.createElement('progress');\n",
              "      progress.max = size;\n",
              "      div.appendChild(progress);\n",
              "      document.body.appendChild(div);\n",
              "\n",
              "      const buffers = [];\n",
              "      let downloaded = 0;\n",
              "\n",
              "      const channel = await google.colab.kernel.comms.open(id);\n",
              "      // Send a message to notify the kernel that we're ready.\n",
              "      channel.send({})\n",
              "\n",
              "      for await (const message of channel.messages) {\n",
              "        // Send a message to notify the kernel that we're ready.\n",
              "        channel.send({})\n",
              "        if (message.buffers) {\n",
              "          for (const buffer of message.buffers) {\n",
              "            buffers.push(buffer);\n",
              "            downloaded += buffer.byteLength;\n",
              "            progress.value = downloaded;\n",
              "          }\n",
              "        }\n",
              "      }\n",
              "      const blob = new Blob(buffers, {type: 'application/binary'});\n",
              "      const a = document.createElement('a');\n",
              "      a.href = window.URL.createObjectURL(blob);\n",
              "      a.download = filename;\n",
              "      div.appendChild(a);\n",
              "      a.click();\n",
              "      div.remove();\n",
              "    }\n",
              "  "
            ],
            "text/plain": [
              "<IPython.core.display.Javascript object>"
            ]
          },
          "metadata": {
            "tags": []
          }
        },
        {
          "output_type": "display_data",
          "data": {
            "application/javascript": [
              "download(\"download_f003125c-425e-4821-b34e-5dfb82e7c2be\", \"20210327_2054OCRfile.txt\", 1208)"
            ],
            "text/plain": [
              "<IPython.core.display.Javascript object>"
            ]
          },
          "metadata": {
            "tags": []
          }
        }
      ]
    },
    {
      "cell_type": "code",
      "metadata": {
        "id": "VDHb9N5zXDOk"
      },
      "source": [
        ""
      ],
      "execution_count": null,
      "outputs": []
    }
  ]
}