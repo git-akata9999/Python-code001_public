{
  "nbformat": 4,
  "nbformat_minor": 0,
  "metadata": {
    "colab": {
      "name": "20210308_中国語翻訳単語帳付き.ipynb",
      "provenance": [],
      "collapsed_sections": [],
      "mount_file_id": "1Jk5wIf9qXh4RWizgYHZUkE1SscyCHTFA",
      "authorship_tag": "ABX9TyNiEVSUMSn8jMTTj/UngOUY",
      "include_colab_link": true
    },
    "kernelspec": {
      "name": "python3",
      "display_name": "Python 3"
    }
  },
  "cells": [
    {
      "cell_type": "markdown",
      "metadata": {
        "id": "view-in-github",
        "colab_type": "text"
      },
      "source": [
        "<a href=\"https://colab.research.google.com/github/git-akata9999/Python-code001_public/blob/main/20210308_%E4%B8%AD%E5%9B%BD%E8%AA%9E%E7%BF%BB%E8%A8%B3%E5%8D%98%E8%AA%9E%E5%B8%B3%E4%BB%98%E3%81%8D.ipynb\" target=\"_parent\"><img src=\"https://colab.research.google.com/assets/colab-badge.svg\" alt=\"Open In Colab\"/></a>"
      ]
    },
    {
      "cell_type": "markdown",
      "metadata": {
        "id": "9RQGqpBg2o5s"
      },
      "source": [
        "中国語文をもとに単語帳作成"
      ]
    },
    {
      "cell_type": "markdown",
      "metadata": {
        "id": "pB1YJP8afzMQ"
      },
      "source": [
        "①ライブラリのインストール"
      ]
    },
    {
      "cell_type": "code",
      "metadata": {
        "colab": {
          "base_uri": "https://localhost:8080/"
        },
        "id": "cBJU4dxCq2I9",
        "outputId": "7d4419c9-694e-44b8-b8b2-37cdf023403d"
      },
      "source": [
        "!pip install pandas\n",
        "!pip install googletrans==4.0.0-rc1\n",
        "# 形態素分析ライブラリーMeCab と 辞書(mecab-ipadic-NEologd)のインストール \n",
        "# https://qiita.com/jun40vn/items/78e33e29dce3d50c2df1\n",
        "!apt-get -q -y install sudo file mecab libmecab-dev mecab-ipadic-utf8 git curl python-mecab > /dev/null\n",
        "!git clone --depth 1 https://github.com/neologd/mecab-ipadic-neologd.git > /dev/null \n",
        "!echo yes | mecab-ipadic-neologd/bin/install-mecab-ipadic-neologd -n > /dev/null 2>&1\n",
        "!pip install mecab-python3 > /dev/null\n",
        "\n",
        "# シンボリックリンクによるエラー回避\n",
        "!ln -s /etc/mecabrc /usr/local/etc/mecabrc\n",
        "\n",
        "!pip install jieba"
      ],
      "execution_count": null,
      "outputs": [
        {
          "output_type": "stream",
          "text": [
            "Requirement already satisfied: pandas in /usr/local/lib/python3.7/dist-packages (1.1.5)\n",
            "Requirement already satisfied: pytz>=2017.2 in /usr/local/lib/python3.7/dist-packages (from pandas) (2018.9)\n",
            "Requirement already satisfied: numpy>=1.15.4 in /usr/local/lib/python3.7/dist-packages (from pandas) (1.19.5)\n",
            "Requirement already satisfied: python-dateutil>=2.7.3 in /usr/local/lib/python3.7/dist-packages (from pandas) (2.8.1)\n",
            "Requirement already satisfied: six>=1.5 in /usr/local/lib/python3.7/dist-packages (from python-dateutil>=2.7.3->pandas) (1.15.0)\n",
            "Collecting googletrans==4.0.0-rc1\n",
            "  Downloading https://files.pythonhosted.org/packages/fa/0d/a5fe8fb53dbf401f8a34cef9439c4c5b8f5037e20123b3e731397808d839/googletrans-4.0.0rc1.tar.gz\n",
            "Collecting httpx==0.13.3\n",
            "\u001b[?25l  Downloading https://files.pythonhosted.org/packages/54/b4/698b284c6aed4d7c2b4fe3ba5df1fcf6093612423797e76fbb24890dd22f/httpx-0.13.3-py3-none-any.whl (55kB)\n",
            "\u001b[K     |████████████████████████████████| 61kB 3.2MB/s \n",
            "\u001b[?25hCollecting httpcore==0.9.*\n",
            "\u001b[?25l  Downloading https://files.pythonhosted.org/packages/dd/d5/e4ff9318693ac6101a2095e580908b591838c6f33df8d3ee8dd953ba96a8/httpcore-0.9.1-py3-none-any.whl (42kB)\n",
            "\u001b[K     |████████████████████████████████| 51kB 4.2MB/s \n",
            "\u001b[?25hRequirement already satisfied: chardet==3.* in /usr/local/lib/python3.7/dist-packages (from httpx==0.13.3->googletrans==4.0.0-rc1) (3.0.4)\n",
            "Requirement already satisfied: certifi in /usr/local/lib/python3.7/dist-packages (from httpx==0.13.3->googletrans==4.0.0-rc1) (2020.12.5)\n",
            "Collecting rfc3986<2,>=1.3\n",
            "  Downloading https://files.pythonhosted.org/packages/78/be/7b8b99fd74ff5684225f50dd0e865393d2265656ef3b4ba9eaaaffe622b8/rfc3986-1.4.0-py2.py3-none-any.whl\n",
            "Collecting hstspreload\n",
            "\u001b[?25l  Downloading https://files.pythonhosted.org/packages/dd/50/606213e12fb49c5eb667df0936223dcaf461f94e215ea60244b2b1e9b039/hstspreload-2020.12.22-py3-none-any.whl (994kB)\n",
            "\u001b[K     |████████████████████████████████| 1.0MB 6.5MB/s \n",
            "\u001b[?25hRequirement already satisfied: idna==2.* in /usr/local/lib/python3.7/dist-packages (from httpx==0.13.3->googletrans==4.0.0-rc1) (2.10)\n",
            "Collecting sniffio\n",
            "  Downloading https://files.pythonhosted.org/packages/52/b0/7b2e028b63d092804b6794595871f936aafa5e9322dcaaad50ebf67445b3/sniffio-1.2.0-py3-none-any.whl\n",
            "Collecting h11<0.10,>=0.8\n",
            "\u001b[?25l  Downloading https://files.pythonhosted.org/packages/5a/fd/3dad730b0f95e78aeeb742f96fa7bbecbdd56a58e405d3da440d5bfb90c6/h11-0.9.0-py2.py3-none-any.whl (53kB)\n",
            "\u001b[K     |████████████████████████████████| 61kB 5.4MB/s \n",
            "\u001b[?25hCollecting h2==3.*\n",
            "\u001b[?25l  Downloading https://files.pythonhosted.org/packages/25/de/da019bcc539eeab02f6d45836f23858ac467f584bfec7a526ef200242afe/h2-3.2.0-py2.py3-none-any.whl (65kB)\n",
            "\u001b[K     |████████████████████████████████| 71kB 5.7MB/s \n",
            "\u001b[?25hCollecting hyperframe<6,>=5.2.0\n",
            "  Downloading https://files.pythonhosted.org/packages/19/0c/bf88182bcb5dce3094e2f3e4fe20db28a9928cb7bd5b08024030e4b140db/hyperframe-5.2.0-py2.py3-none-any.whl\n",
            "Collecting hpack<4,>=3.0\n",
            "  Downloading https://files.pythonhosted.org/packages/8a/cc/e53517f4a1e13f74776ca93271caef378dadec14d71c61c949d759d3db69/hpack-3.0.0-py2.py3-none-any.whl\n",
            "Building wheels for collected packages: googletrans\n",
            "  Building wheel for googletrans (setup.py) ... \u001b[?25l\u001b[?25hdone\n",
            "  Created wheel for googletrans: filename=googletrans-4.0.0rc1-cp37-none-any.whl size=17417 sha256=eb27fbdcce20c4860f0241c56c7dac16db26ae35bb60be144033513df7fcccc4\n",
            "  Stored in directory: /root/.cache/pip/wheels/09/32/56/fd8940f1b3c1d77c9f91b55597c52a4d4833b000a980bb0740\n",
            "Successfully built googletrans\n",
            "Installing collected packages: sniffio, h11, hyperframe, hpack, h2, httpcore, rfc3986, hstspreload, httpx, googletrans\n",
            "Successfully installed googletrans-4.0.0rc1 h11-0.9.0 h2-3.2.0 hpack-3.0.0 hstspreload-2020.12.22 httpcore-0.9.1 httpx-0.13.3 hyperframe-5.2.0 rfc3986-1.4.0 sniffio-1.2.0\n",
            "Cloning into 'mecab-ipadic-neologd'...\n",
            "remote: Enumerating objects: 75, done.\u001b[K\n",
            "remote: Counting objects: 100% (75/75), done.\u001b[K\n",
            "remote: Compressing objects: 100% (74/74), done.\u001b[K\n",
            "remote: Total 75 (delta 5), reused 54 (delta 0), pack-reused 0\u001b[K\n",
            "Unpacking objects: 100% (75/75), done.\n",
            "Requirement already satisfied: jieba in /usr/local/lib/python3.7/dist-packages (0.42.1)\n"
          ],
          "name": "stdout"
        }
      ]
    },
    {
      "cell_type": "markdown",
      "metadata": {
        "id": "v1K1ms3gf9Wr"
      },
      "source": [
        "②中国語文を分かち書きし、単語を翻訳。単語帳を出力"
      ]
    },
    {
      "cell_type": "code",
      "metadata": {
        "colab": {
          "base_uri": "https://localhost:8080/",
          "height": 1000
        },
        "id": "o7PCTCfdRe8t",
        "outputId": "9c1fb18c-86d8-44c3-ae66-26d0797851a6"
      },
      "source": [
        "import pandas as pd\n",
        "import jieba\n",
        "from google.colab import files\n",
        "import re\n",
        "from googletrans import Translator\n",
        "import datetime as dt\n",
        "\n",
        "\n",
        "now = dt.datetime.now(dt.timezone(dt.timedelta(hours=9))) # 日本時刻\n",
        "tr = Translator()\n",
        "\n",
        "#空の単語帳リスト\n",
        "wordBook = []\n",
        "\n",
        "#中国語のテキストを読み込み和訳出力\n",
        "#tx = '据微博“石家庄长安发布”的消息，2021年3月9日上午11时20分左右，位于石家庄建设大街与范西路交口东南角的众鑫大厦外墙保温材料起火。火情发生后，各级各部门负责人立即赶赴现场，指挥火灾处置。消防、公安、城管等部门共派出消防车45辆、供水车10辆全力开展扑救；青园街道办事处全员出动做好人员疏散。\\截至13时28分，火情已基本得到控制，楼内商户、工作人员和附近7栋居民楼居民已安全撤离，没有人员伤亡情况，火灾具体原因正在调查中。（总台央视记者 杨海灵 冯彦杰）'\n",
        "tx = input('中国語文を入力してください-->')\n",
        "tx1=tx.translate(str.maketrans({\" \":\"\",\"?\":\"\",\"。\":\"\",\"“\":\"\",\"”\":\"\",\"，\":\"\",\"、\":\"\",\"（\":\"\",}))\n",
        "\n",
        "#テキストの分かち書き\n",
        "words = jieba.lcut(tx1,cut_all=True)\n",
        "#words = jieba.lcut(tx1)\n",
        "print(tx1)\n",
        "\n",
        "#単語を1つずつ和訳し、wordBookに格納\n",
        "for i in range (0, len(words)-1):\n",
        "    str = words[i]\n",
        "    print(str)\n",
        "    trans =tr.translate(str,src='zh-CN',dest='ja').text\n",
        "    wordBook.append([str, trans])\n",
        "    words.append(trans)\n",
        "    \n",
        "#Pandasによる単語帳作成、およびDL処理\n",
        "col =['Chinese','Japanese']\n",
        "df = pd.DataFrame(wordBook,columns=col)\n",
        "df\n",
        "filename =  now.strftime('%Y%m%d_%H%M') + '中国語単語帳.xlsx'\n",
        "df.to_excel(filename)\n",
        "files.download(filename)\n"
      ],
      "execution_count": null,
      "outputs": [
        {
          "output_type": "stream",
          "text": [
            "中国語文を入力してください-->我国平台经济发展正处在关键时期，要着眼长远、兼顾当前，补齐短板、强化弱项，营造创新环境，解决突出矛盾和问题，推动平台经济规范健康持续发展；实现碳达峰、碳中和是一场广泛而深刻的经济社会系统性变革，要把碳达峰、碳中和纳入生态文明建设整体布局，拿出抓铁有痕的劲头，如期实现2030年前碳达峰、2060年前碳中和的目标\n"
          ],
          "name": "stdout"
        },
        {
          "output_type": "stream",
          "text": [
            "Building prefix dict from the default dictionary ...\n",
            "Dumping model to file cache /tmp/jieba.cache\n",
            "Loading model cost 0.938 seconds.\n",
            "Prefix dict has been built successfully.\n"
          ],
          "name": "stderr"
        },
        {
          "output_type": "stream",
          "text": [
            "我国平台经济发展正处在关键时期要着眼长远兼顾当前补齐短板强化弱项营造创新环境解决突出矛盾和问题推动平台经济规范健康持续发展；实现碳达峰碳中和是一场广泛而深刻的经济社会系统性变革要把碳达峰碳中和纳入生态文明建设整体布局拿出抓铁有痕的劲头如期实现2030年前碳达峰2060年前碳中和的目标\n",
            "我国\n",
            "平台\n",
            "经济\n",
            "发展\n",
            "正处\n",
            "处在\n",
            "关键\n",
            "关键时期\n",
            "时期\n",
            "要\n",
            "着眼\n",
            "长远\n",
            "兼顾\n",
            "当前\n",
            "补齐\n",
            "短板\n",
            "强化\n",
            "弱项\n",
            "营造\n",
            "创新\n",
            "环境\n",
            "解决\n",
            "突出\n",
            "矛盾\n",
            "和\n",
            "问题\n",
            "推动\n",
            "平台\n",
            "经济\n",
            "规范\n",
            "健康\n",
            "持续\n",
            "发展\n",
            "；\n",
            "实现\n",
            "碳\n",
            "达\n",
            "峰\n",
            "碳\n",
            "中和\n",
            "是\n",
            "一场\n",
            "广泛\n",
            "而\n",
            "深刻\n",
            "的\n",
            "经济\n",
            "经济社会\n",
            "社会\n",
            "系统\n",
            "系统性\n",
            "变革\n",
            "要\n",
            "把\n",
            "碳\n",
            "达\n",
            "峰\n",
            "碳\n",
            "中和\n",
            "纳入\n",
            "生态\n",
            "文明\n",
            "建设\n",
            "整体\n",
            "布局\n",
            "拿出\n",
            "抓\n",
            "铁\n",
            "有\n",
            "痕\n",
            "的\n",
            "劲头\n",
            "如期\n",
            "实现\n",
            "2030\n",
            "年前\n",
            "碳\n",
            "达\n",
            "峰\n",
            "2060\n",
            "年前\n",
            "碳\n",
            "中和\n",
            "的\n"
          ],
          "name": "stdout"
        },
        {
          "output_type": "display_data",
          "data": {
            "application/javascript": [
              "\n",
              "    async function download(id, filename, size) {\n",
              "      if (!google.colab.kernel.accessAllowed) {\n",
              "        return;\n",
              "      }\n",
              "      const div = document.createElement('div');\n",
              "      const label = document.createElement('label');\n",
              "      label.textContent = `Downloading \"${filename}\": `;\n",
              "      div.appendChild(label);\n",
              "      const progress = document.createElement('progress');\n",
              "      progress.max = size;\n",
              "      div.appendChild(progress);\n",
              "      document.body.appendChild(div);\n",
              "\n",
              "      const buffers = [];\n",
              "      let downloaded = 0;\n",
              "\n",
              "      const channel = await google.colab.kernel.comms.open(id);\n",
              "      // Send a message to notify the kernel that we're ready.\n",
              "      channel.send({})\n",
              "\n",
              "      for await (const message of channel.messages) {\n",
              "        // Send a message to notify the kernel that we're ready.\n",
              "        channel.send({})\n",
              "        if (message.buffers) {\n",
              "          for (const buffer of message.buffers) {\n",
              "            buffers.push(buffer);\n",
              "            downloaded += buffer.byteLength;\n",
              "            progress.value = downloaded;\n",
              "          }\n",
              "        }\n",
              "      }\n",
              "      const blob = new Blob(buffers, {type: 'application/binary'});\n",
              "      const a = document.createElement('a');\n",
              "      a.href = window.URL.createObjectURL(blob);\n",
              "      a.download = filename;\n",
              "      div.appendChild(a);\n",
              "      a.click();\n",
              "      div.remove();\n",
              "    }\n",
              "  "
            ],
            "text/plain": [
              "<IPython.core.display.Javascript object>"
            ]
          },
          "metadata": {
            "tags": []
          }
        },
        {
          "output_type": "display_data",
          "data": {
            "application/javascript": [
              "download(\"download_d2890db5-a918-40c4-aec7-15a2f87f7b90\", \"20210316_2245\\u4e2d\\u56fd\\u8a9e\\u5358\\u8a9e\\u5e33.xlsx\", 7332)"
            ],
            "text/plain": [
              "<IPython.core.display.Javascript object>"
            ]
          },
          "metadata": {
            "tags": []
          }
        }
      ]
    },
    {
      "cell_type": "code",
      "metadata": {
        "id": "_-PGkSPMP5rE"
      },
      "source": [
        ""
      ],
      "execution_count": null,
      "outputs": []
    }
  ]
}